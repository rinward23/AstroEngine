{
 "cells": [
  {
   "cell_type": "markdown",
   "id": "961ac081",
   "metadata": {},
   "source": [
    "# 06 · Report Markdown (SPEC-B-007)\n",
    "\n",
    "Assemble a lightweight markdown section from the top findings."
   ]
  },
  {
   "cell_type": "code",
   "execution_count": 1,
   "id": "febfc9bb",
   "metadata": {
    "execution": {
     "iopub.execute_input": "2025-09-27T21:17:15.069151Z",
     "iopub.status.busy": "2025-09-27T21:17:15.068970Z",
     "iopub.status.idle": "2025-09-27T21:17:15.506559Z",
     "shell.execute_reply": "2025-09-27T21:17:15.505661Z"
    }
   },
   "outputs": [],
   "source": [
    "from __future__ import annotations\n",
    "\n",
    "import json\n",
    "import math\n",
    "import os\n",
    "from pathlib import Path\n",
    "import pandas as pd\n",
    "import sys\n",
    "\n",
    "ASTRO_ROOT = Path(os.environ.get('ASTROENGINE_ROOT', '..')).resolve()\n",
    "DOCS_ROOT = Path(os.environ.get('DOCS_SITE_ROOT', 'docs-site')).resolve()\n",
    "FIXTURES = DOCS_ROOT / 'docs' / 'fixtures'\n",
    "os.environ.setdefault('SE_EPHE_PATH', str(ASTRO_ROOT / 'datasets' / 'swisseph_stub'))\n",
    "if str(ASTRO_ROOT) not in sys.path:\n",
    "    sys.path.insert(0, str(ASTRO_ROOT))"
   ]
  },
  {
   "cell_type": "code",
   "execution_count": 2,
   "id": "d68d263b",
   "metadata": {
    "execution": {
     "iopub.execute_input": "2025-09-27T21:17:15.508842Z",
     "iopub.status.busy": "2025-09-27T21:17:15.508583Z",
     "iopub.status.idle": "2025-09-27T21:17:15.512707Z",
     "shell.execute_reply": "2025-09-27T21:17:15.511973Z"
    }
   },
   "outputs": [
    {
     "name": "stdout",
     "output_type": "stream",
     "text": [
      "# Relationship Snapshot\n",
      "\n",
      "## Synastry Overview\n",
      "Total hits: 18\n",
      "\n"
     ]
    }
   ],
   "source": [
    "from pathlib import Path\n",
    "markdown = (FIXTURES / 'report_markdown.txt').read_text()\n",
    "print(markdown)"
   ]
  },
  {
   "cell_type": "code",
   "execution_count": 3,
   "id": "3f8ffd96",
   "metadata": {
    "execution": {
     "iopub.execute_input": "2025-09-27T21:17:15.514303Z",
     "iopub.status.busy": "2025-09-27T21:17:15.514136Z",
     "iopub.status.idle": "2025-09-27T21:17:15.517986Z",
     "shell.execute_reply": "2025-09-27T21:17:15.517228Z"
    }
   },
   "outputs": [
    {
     "name": "stdout",
     "output_type": "stream",
     "text": [
      "Results checksum: 697ce94f7f7dab892133344b370825d384d170f1cb8059c3aa3797a84c7d0fb2\n"
     ]
    }
   ],
   "source": [
    "import hashlib\n",
    "print('Results checksum:', hashlib.sha256((FIXTURES / 'report_markdown.txt').read_bytes()).hexdigest())"
   ]
  }
 ],
 "metadata": {
  "language_info": {
   "codemirror_mode": {
    "name": "ipython",
    "version": 3
   },
   "file_extension": ".py",
   "mimetype": "text/x-python",
   "name": "python",
   "nbconvert_exporter": "python",
   "pygments_lexer": "ipython3",
   "version": "3.11.12"
  }
 },
 "nbformat": 4,
 "nbformat_minor": 5
}
