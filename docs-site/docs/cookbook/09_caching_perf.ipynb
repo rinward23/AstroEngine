{
 "cells": [
  {
   "cell_type": "markdown",
   "id": "f345e017",
   "metadata": {},
   "source": [
    "# 09 · Caching & Performance (SPEC-B-015)\n",
    "\n",
    "Compare cold vs warm scan timings to highlight cache impact."
   ]
  },
  {
   "cell_type": "code",
   "execution_count": 1,
   "id": "eb92cb44",
   "metadata": {
    "execution": {
     "iopub.execute_input": "2025-09-27T21:17:20.474407Z",
     "iopub.status.busy": "2025-09-27T21:17:20.474153Z",
     "iopub.status.idle": "2025-09-27T21:17:20.918332Z",
     "shell.execute_reply": "2025-09-27T21:17:20.917527Z"
    }
   },
   "outputs": [],
   "source": [
    "from __future__ import annotations\n",
    "\n",
    "import json\n",
    "import os\n",
    "import sys\n",
    "from pathlib import Path\n",
    "\n",
    "ASTRO_ROOT = Path(os.environ.get('ASTROENGINE_ROOT', '..')).resolve()\n",
    "DOCS_ROOT = Path(os.environ.get('DOCS_SITE_ROOT', 'docs-site')).resolve()\n",
    "FIXTURES = DOCS_ROOT / 'docs' / 'fixtures'\n",
    "os.environ.setdefault('SE_EPHE_PATH', str(ASTRO_ROOT / 'datasets' / 'swisseph_stub'))\n",
    "if str(ASTRO_ROOT) not in sys.path:\n",
    "    sys.path.insert(0, str(ASTRO_ROOT))"
   ]
  },
  {
   "cell_type": "code",
   "execution_count": 2,
   "id": "55a157d9",
   "metadata": {
    "execution": {
     "iopub.execute_input": "2025-09-27T21:17:20.920639Z",
     "iopub.status.busy": "2025-09-27T21:17:20.920349Z",
     "iopub.status.idle": "2025-09-27T21:17:20.926986Z",
     "shell.execute_reply": "2025-09-27T21:17:20.926424Z"
    }
   },
   "outputs": [
    {
     "data": {
      "text/plain": [
       "{'cold_call_ms': 3.194, 'warm_call_ms': 2.655}"
      ]
     },
     "execution_count": 2,
     "metadata": {},
     "output_type": "execute_result"
    }
   ],
   "source": [
    "metrics = json.loads((FIXTURES / 'caching_metrics.json').read_text())\n",
    "metrics"
   ]
  },
  {
   "cell_type": "code",
   "execution_count": 3,
   "id": "fcf76bd2",
   "metadata": {
    "execution": {
     "iopub.execute_input": "2025-09-27T21:17:20.928707Z",
     "iopub.status.busy": "2025-09-27T21:17:20.928508Z",
     "iopub.status.idle": "2025-09-27T21:17:22.498806Z",
     "shell.execute_reply": "2025-09-27T21:17:22.497987Z"
    }
   },
   "outputs": [
    {
     "name": "stdout",
     "output_type": "stream",
     "text": [
      "Measured cold call ms: 3.44\n"
     ]
    }
   ],
   "source": [
    "import time\n",
    "\n",
    "from astroengine.core.transit_engine import scan_transits\n",
    "\n",
    "start = time.perf_counter()\n",
    "scan_transits('1990-07-11T08:00:00Z', '2024-01-01T00:00:00Z', '2024-02-01T00:00:00Z', bodies=['Mars'], targets=['Sun'], aspects=['conjunction'], orb_deg=1.5, step_days=1.0)\n",
    "print('Measured cold call ms:', round((time.perf_counter() - start) * 1000, 2))"
   ]
  },
  {
   "cell_type": "code",
   "execution_count": 4,
   "id": "a9d352b5",
   "metadata": {
    "execution": {
     "iopub.execute_input": "2025-09-27T21:17:22.501184Z",
     "iopub.status.busy": "2025-09-27T21:17:22.500834Z",
     "iopub.status.idle": "2025-09-27T21:17:22.505271Z",
     "shell.execute_reply": "2025-09-27T21:17:22.504651Z"
    }
   },
   "outputs": [
    {
     "name": "stdout",
     "output_type": "stream",
     "text": [
      "Results checksum: 6743380e5fe8372782bd89b663c9d651a391edb17e6b75838a93de402bd981ea\n"
     ]
    }
   ],
   "source": [
    "import hashlib\n",
    "\n",
    "print('Results checksum:', hashlib.sha256((FIXTURES / 'caching_metrics.json').read_bytes()).hexdigest())"
   ]
  }
 ],
 "metadata": {
  "language_info": {
   "codemirror_mode": {
    "name": "ipython",
    "version": 3
   },
   "file_extension": ".py",
   "mimetype": "text/x-python",
   "name": "python",
   "nbconvert_exporter": "python",
   "pygments_lexer": "ipython3",
   "version": "3.11.12"
  }
 },
 "nbformat": 4,
 "nbformat_minor": 5
}
