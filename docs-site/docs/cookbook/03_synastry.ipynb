{
 "cells": [
  {
   "cell_type": "markdown",
   "id": "f18e5502",
   "metadata": {},
   "source": [
    "# 03 · Synastry Hits (SPEC-B-003)\n",
    "\n",
    "Directional synastry aspects are recomputed and validated against the golden fixture used in the API docs."
   ]
  },
  {
   "cell_type": "code",
   "execution_count": 1,
   "id": "0e98c5f1",
   "metadata": {
    "execution": {
     "iopub.execute_input": "2025-09-27T21:17:08.823402Z",
     "iopub.status.busy": "2025-09-27T21:17:08.823223Z",
     "iopub.status.idle": "2025-09-27T21:17:09.305282Z",
     "shell.execute_reply": "2025-09-27T21:17:09.304266Z"
    }
   },
   "outputs": [],
   "source": [
    "from __future__ import annotations\n",
    "\n",
    "import json\n",
    "import math\n",
    "import os\n",
    "from pathlib import Path\n",
    "import pandas as pd\n",
    "import sys\n",
    "\n",
    "ASTRO_ROOT = Path(os.environ.get('ASTROENGINE_ROOT', '..')).resolve()\n",
    "DOCS_ROOT = Path(os.environ.get('DOCS_SITE_ROOT', 'docs-site')).resolve()\n",
    "FIXTURES = DOCS_ROOT / 'docs' / 'fixtures'\n",
    "os.environ.setdefault('SE_EPHE_PATH', str(ASTRO_ROOT / 'datasets' / 'swisseph_stub'))\n",
    "if str(ASTRO_ROOT) not in sys.path:\n",
    "    sys.path.insert(0, str(ASTRO_ROOT))"
   ]
  },
  {
   "cell_type": "code",
   "execution_count": 2,
   "id": "206153a5",
   "metadata": {
    "execution": {
     "iopub.execute_input": "2025-09-27T21:17:09.307997Z",
     "iopub.status.busy": "2025-09-27T21:17:09.307684Z",
     "iopub.status.idle": "2025-09-27T21:17:09.316372Z",
     "shell.execute_reply": "2025-09-27T21:17:09.315682Z"
    }
   },
   "outputs": [],
   "source": [
    "events = pd.read_csv(FIXTURES / 'birth_events.csv')\n",
    "subject = {key: events.iloc[0][key] for key in ['ts', 'lat', 'lon']}\n",
    "partner = {key: events.iloc[1][key] for key in ['ts', 'lat', 'lon']}"
   ]
  },
  {
   "cell_type": "code",
   "execution_count": 3,
   "id": "64425fca",
   "metadata": {
    "execution": {
     "iopub.execute_input": "2025-09-27T21:17:09.318492Z",
     "iopub.status.busy": "2025-09-27T21:17:09.318303Z",
     "iopub.status.idle": "2025-09-27T21:17:10.784687Z",
     "shell.execute_reply": "2025-09-27T21:17:10.784071Z"
    }
   },
   "outputs": [
    {
     "name": "stdout",
     "output_type": "stream",
     "text": [
      "Hit count: 18\n"
     ]
    },
    {
     "data": {
      "text/plain": [
       "[{'direction': 'A->B',\n",
       "  'moving': 'Jupiter',\n",
       "  'target': 'Pluto',\n",
       "  'angle_deg': 120.0,\n",
       "  'orb_abs': 1.2266583829778597,\n",
       "  'score': 0.38667080851107016,\n",
       "  'domains': {'SPIRIT': 0.6071428571428572,\n",
       "   'MIND': 0.14285714285714288,\n",
       "   'BODY': 0.25}}]"
      ]
     },
     "execution_count": 3,
     "metadata": {},
     "output_type": "execute_result"
    }
   ],
   "source": [
    "from astroengine.synastry.orchestrator import compute_synastry\n",
    "hits = compute_synastry(subject=subject, partner=partner, aspects=[0, 60, 90, 120, 180], orb_deg=2.0)\n",
    "print('Hit count:', len(hits))\n",
    "[vars(hits[0])] if hits else []"
   ]
  },
  {
   "cell_type": "code",
   "execution_count": 4,
   "id": "2b450e4e",
   "metadata": {
    "execution": {
     "iopub.execute_input": "2025-09-27T21:17:10.786477Z",
     "iopub.status.busy": "2025-09-27T21:17:10.786222Z",
     "iopub.status.idle": "2025-09-27T21:17:10.793358Z",
     "shell.execute_reply": "2025-09-27T21:17:10.792739Z"
    }
   },
   "outputs": [
    {
     "data": {
      "text/plain": [
       "([{'angle_deg': 120.0,\n",
       "   'direction': 'A->B',\n",
       "   'domains': {'BODY': 0.25,\n",
       "    'MIND': 0.14285714285714288,\n",
       "    'SPIRIT': 0.6071428571428572},\n",
       "   'moving': 'Jupiter',\n",
       "   'orb_abs': 1.2266583829778597,\n",
       "   'score': 0.38667080851107016,\n",
       "   'target': 'Pluto'},\n",
       "  {'angle_deg': 90.0,\n",
       "   'direction': 'A->B',\n",
       "   'domains': {'MIND': 0.5, 'SPIRIT': 0.5},\n",
       "   'moving': 'Neptune',\n",
       "   'orb_abs': 1.8183528766861627,\n",
       "   'score': 0.09082356165691863,\n",
       "   'target': 'Mercury'}],\n",
       " [{'direction': 'A->B',\n",
       "   'moving': 'Jupiter',\n",
       "   'target': 'Pluto',\n",
       "   'angle_deg': 120.0,\n",
       "   'orb_abs': 1.226658},\n",
       "  {'direction': 'A->B',\n",
       "   'moving': 'Neptune',\n",
       "   'target': 'Mercury',\n",
       "   'angle_deg': 90.0,\n",
       "   'orb_abs': 1.818353}])"
      ]
     },
     "execution_count": 4,
     "metadata": {},
     "output_type": "execute_result"
    }
   ],
   "source": [
    "fixture = json.loads((FIXTURES / 'synastry_hits.json').read_text())\n",
    "calc = [\n",
    "    {\n",
    "        'direction': h.direction,\n",
    "        'moving': h.moving,\n",
    "        'target': h.target,\n",
    "        'angle_deg': h.angle_deg,\n",
    "        'orb_abs': round(h.orb_abs, 6),\n",
    "    }\n",
    "    for h in hits\n",
    "]\n",
    "fixture[:2], calc[:2]"
   ]
  },
  {
   "cell_type": "code",
   "execution_count": 5,
   "id": "e7409047",
   "metadata": {
    "execution": {
     "iopub.execute_input": "2025-09-27T21:17:10.795041Z",
     "iopub.status.busy": "2025-09-27T21:17:10.794862Z",
     "iopub.status.idle": "2025-09-27T21:17:10.798188Z",
     "shell.execute_reply": "2025-09-27T21:17:10.797644Z"
    }
   },
   "outputs": [
    {
     "name": "stdout",
     "output_type": "stream",
     "text": [
      "Results checksum: 3223a02ff71202e961531f3b19360659c822bbea6f68b2105827c56acf47884c\n"
     ]
    }
   ],
   "source": [
    "import hashlib\n",
    "print('Results checksum:', hashlib.sha256((FIXTURES / 'synastry_hits.json').read_bytes()).hexdigest())"
   ]
  }
 ],
 "metadata": {
  "language_info": {
   "codemirror_mode": {
    "name": "ipython",
    "version": 3
   },
   "file_extension": ".py",
   "mimetype": "text/x-python",
   "name": "python",
   "nbconvert_exporter": "python",
   "pygments_lexer": "ipython3",
   "version": "3.11.12"
  }
 },
 "nbformat": 4,
 "nbformat_minor": 5
}
