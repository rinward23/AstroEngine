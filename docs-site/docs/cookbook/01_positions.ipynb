{
 "cells": [
  {
   "cell_type": "markdown",
   "id": "186bcc02",
   "metadata": {},
   "source": [
    "# 01 · Natal Positions (SPEC-B-001)\n",
    "\n",
    "This notebook boots the ephemeris adapter and computes natal positions for the sample SolarFire exports. The outputs are compared to the golden fixtures that feed later notebooks."
   ]
  },
  {
   "cell_type": "code",
   "execution_count": 1,
   "id": "155401e7",
   "metadata": {
    "execution": {
     "iopub.execute_input": "2025-09-27T21:16:59.608525Z",
     "iopub.status.busy": "2025-09-27T21:16:59.608268Z",
     "iopub.status.idle": "2025-09-27T21:17:00.126820Z",
     "shell.execute_reply": "2025-09-27T21:17:00.125897Z"
    }
   },
   "outputs": [],
   "source": [
    "from __future__ import annotations\n",
    "\n",
    "import json\n",
    "import math\n",
    "import os\n",
    "from pathlib import Path\n",
    "import pandas as pd\n",
    "import sys\n",
    "\n",
    "ASTRO_ROOT = Path(os.environ.get('ASTROENGINE_ROOT', '..')).resolve()\n",
    "DOCS_ROOT = Path(os.environ.get('DOCS_SITE_ROOT', 'docs-site')).resolve()\n",
    "FIXTURES = DOCS_ROOT / 'docs' / 'fixtures'\n",
    "os.environ.setdefault('SE_EPHE_PATH', str(ASTRO_ROOT / 'datasets' / 'swisseph_stub'))\n",
    "if str(ASTRO_ROOT) not in sys.path:\n",
    "    sys.path.insert(0, str(ASTRO_ROOT))"
   ]
  },
  {
   "cell_type": "code",
   "execution_count": 2,
   "id": "a0b9f649",
   "metadata": {
    "execution": {
     "iopub.execute_input": "2025-09-27T21:17:00.129522Z",
     "iopub.status.busy": "2025-09-27T21:17:00.129209Z",
     "iopub.status.idle": "2025-09-27T21:17:00.147981Z",
     "shell.execute_reply": "2025-09-27T21:17:00.147196Z"
    }
   },
   "outputs": [
    {
     "data": {
      "text/html": [
       "<div>\n",
       "<style scoped>\n",
       "    .dataframe tbody tr th:only-of-type {\n",
       "        vertical-align: middle;\n",
       "    }\n",
       "\n",
       "    .dataframe tbody tr th {\n",
       "        vertical-align: top;\n",
       "    }\n",
       "\n",
       "    .dataframe thead th {\n",
       "        text-align: right;\n",
       "    }\n",
       "</style>\n",
       "<table border=\"1\" class=\"dataframe\">\n",
       "  <thead>\n",
       "    <tr style=\"text-align: right;\">\n",
       "      <th></th>\n",
       "      <th>id</th>\n",
       "      <th>name</th>\n",
       "      <th>ts</th>\n",
       "      <th>lat</th>\n",
       "      <th>lon</th>\n",
       "      <th>tz</th>\n",
       "      <th>place</th>\n",
       "    </tr>\n",
       "  </thead>\n",
       "  <tbody>\n",
       "    <tr>\n",
       "      <th>0</th>\n",
       "      <td>subject</td>\n",
       "      <td>Alex</td>\n",
       "      <td>1990-07-11T08:00:00Z</td>\n",
       "      <td>40.7128</td>\n",
       "      <td>-74.0060</td>\n",
       "      <td>America/New_York</td>\n",
       "      <td>New York, NY</td>\n",
       "    </tr>\n",
       "    <tr>\n",
       "      <th>1</th>\n",
       "      <td>partner</td>\n",
       "      <td>Riley</td>\n",
       "      <td>1992-03-15T20:15:00Z</td>\n",
       "      <td>34.0522</td>\n",
       "      <td>-118.2437</td>\n",
       "      <td>America/Los_Angeles</td>\n",
       "      <td>Los Angeles, CA</td>\n",
       "    </tr>\n",
       "  </tbody>\n",
       "</table>\n",
       "</div>"
      ],
      "text/plain": [
       "        id   name                    ts      lat       lon  \\\n",
       "0  subject   Alex  1990-07-11T08:00:00Z  40.7128  -74.0060   \n",
       "1  partner  Riley  1992-03-15T20:15:00Z  34.0522 -118.2437   \n",
       "\n",
       "                    tz            place  \n",
       "0     America/New_York     New York, NY  \n",
       "1  America/Los_Angeles  Los Angeles, CA  "
      ]
     },
     "execution_count": 2,
     "metadata": {},
     "output_type": "execute_result"
    }
   ],
   "source": [
    "events = pd.read_csv(FIXTURES / 'birth_events.csv')\n",
    "if events.empty:\n",
    "    raise RuntimeError('Fixture birth_events.csv is empty')\n",
    "\n",
    "subject = events.iloc[0]\n",
    "partner = events.iloc[1]\n",
    "events"
   ]
  },
  {
   "cell_type": "code",
   "execution_count": 3,
   "id": "45ecd6da",
   "metadata": {
    "execution": {
     "iopub.execute_input": "2025-09-27T21:17:00.149894Z",
     "iopub.status.busy": "2025-09-27T21:17:00.149695Z",
     "iopub.status.idle": "2025-09-27T21:17:01.819461Z",
     "shell.execute_reply": "2025-09-27T21:17:01.818717Z"
    }
   },
   "outputs": [
    {
     "data": {
      "text/html": [
       "<div>\n",
       "<style scoped>\n",
       "    .dataframe tbody tr th:only-of-type {\n",
       "        vertical-align: middle;\n",
       "    }\n",
       "\n",
       "    .dataframe tbody tr th {\n",
       "        vertical-align: top;\n",
       "    }\n",
       "\n",
       "    .dataframe thead th {\n",
       "        text-align: right;\n",
       "    }\n",
       "</style>\n",
       "<table border=\"1\" class=\"dataframe\">\n",
       "  <thead>\n",
       "    <tr style=\"text-align: right;\">\n",
       "      <th></th>\n",
       "      <th>longitude</th>\n",
       "      <th>latitude</th>\n",
       "      <th>distance_au</th>\n",
       "    </tr>\n",
       "  </thead>\n",
       "  <tbody>\n",
       "    <tr>\n",
       "      <th>Sun</th>\n",
       "      <td>108.772824</td>\n",
       "      <td>0.000078</td>\n",
       "      <td>1.016561</td>\n",
       "    </tr>\n",
       "    <tr>\n",
       "      <th>Moon</th>\n",
       "      <td>327.028080</td>\n",
       "      <td>1.780025</td>\n",
       "      <td>0.002586</td>\n",
       "    </tr>\n",
       "    <tr>\n",
       "      <th>Mercury</th>\n",
       "      <td>118.687552</td>\n",
       "      <td>1.838754</td>\n",
       "      <td>1.300223</td>\n",
       "    </tr>\n",
       "    <tr>\n",
       "      <th>Venus</th>\n",
       "      <td>79.421471</td>\n",
       "      <td>-1.136830</td>\n",
       "      <td>1.410495</td>\n",
       "    </tr>\n",
       "    <tr>\n",
       "      <th>Mars</th>\n",
       "      <td>29.133036</td>\n",
       "      <td>-2.065950</td>\n",
       "      <td>1.136778</td>\n",
       "    </tr>\n",
       "  </tbody>\n",
       "</table>\n",
       "</div>"
      ],
      "text/plain": [
       "          longitude  latitude  distance_au\n",
       "Sun      108.772824  0.000078     1.016561\n",
       "Moon     327.028080  1.780025     0.002586\n",
       "Mercury  118.687552  1.838754     1.300223\n",
       "Venus     79.421471 -1.136830     1.410495\n",
       "Mars      29.133036 -2.065950     1.136778"
      ]
     },
     "execution_count": 3,
     "metadata": {},
     "output_type": "execute_result"
    }
   ],
   "source": [
    "from astroengine.chart.natal import ChartLocation, compute_natal_chart\n",
    "from astroengine.ephemeris.swisseph_adapter import SwissEphemerisAdapter\n",
    "\n",
    "adapter = SwissEphemerisAdapter()\n",
    "\n",
    "def chart_positions(row):\n",
    "    moment = pd.to_datetime(row['ts'], utc=True).to_pydatetime()\n",
    "    loc = ChartLocation(latitude=row['lat'], longitude=row['lon'])\n",
    "    chart = compute_natal_chart(moment, loc, adapter=adapter)\n",
    "    data = {name: {'longitude': pos.longitude, 'latitude': pos.latitude, 'distance_au': pos.distance_au} for name, pos in chart.positions.items()}\n",
    "    return pd.DataFrame(data).T.round(6)\n",
    "\n",
    "subject_positions = chart_positions(subject)\n",
    "partner_positions = chart_positions(partner)\n",
    "subject_positions.head()"
   ]
  },
  {
   "cell_type": "code",
   "execution_count": 4,
   "id": "f471ecc7",
   "metadata": {
    "execution": {
     "iopub.execute_input": "2025-09-27T21:17:01.822097Z",
     "iopub.status.busy": "2025-09-27T21:17:01.821754Z",
     "iopub.status.idle": "2025-09-27T21:17:01.839923Z",
     "shell.execute_reply": "2025-09-27T21:17:01.839187Z"
    }
   },
   "outputs": [
    {
     "name": "stdout",
     "output_type": "stream",
     "text": [
      "Max longitude delta subject: 0.000000\n",
      "Max longitude delta partner: 0.000000\n"
     ]
    }
   ],
   "source": [
    "fixture_subject = pd.read_json(FIXTURES / 'positions_subject.json').T\n",
    "fixture_partner = pd.read_json(FIXTURES / 'positions_partner.json').T\n",
    "\n",
    "max_delta = (subject_positions['longitude'] - fixture_subject['longitude']).abs().max()\n",
    "print(f'Max longitude delta subject: {max_delta:.6f}')\n",
    "max_delta_partner = (partner_positions['longitude'] - fixture_partner['longitude']).abs().max()\n",
    "print(f'Max longitude delta partner: {max_delta_partner:.6f}')"
   ]
  },
  {
   "cell_type": "code",
   "execution_count": 5,
   "id": "ca1caf30",
   "metadata": {
    "execution": {
     "iopub.execute_input": "2025-09-27T21:17:01.841708Z",
     "iopub.status.busy": "2025-09-27T21:17:01.841468Z",
     "iopub.status.idle": "2025-09-27T21:17:01.845062Z",
     "shell.execute_reply": "2025-09-27T21:17:01.844558Z"
    }
   },
   "outputs": [
    {
     "name": "stdout",
     "output_type": "stream",
     "text": [
      "Results checksum: 3673f99a953b76ab946d27d2a64d9105d1c3d17c5dff9ef7157a388c781745e7\n"
     ]
    }
   ],
   "source": [
    "import hashlib\n",
    "sha = hashlib.sha256((FIXTURES / 'positions_subject.json').read_bytes()).hexdigest()\n",
    "print('Results checksum:', sha)"
   ]
  }
 ],
 "metadata": {
  "language_info": {
   "codemirror_mode": {
    "name": "ipython",
    "version": 3
   },
   "file_extension": ".py",
   "mimetype": "text/x-python",
   "name": "python",
   "nbconvert_exporter": "python",
   "pygments_lexer": "ipython3",
   "version": "3.11.12"
  }
 },
 "nbformat": 4,
 "nbformat_minor": 5
}
