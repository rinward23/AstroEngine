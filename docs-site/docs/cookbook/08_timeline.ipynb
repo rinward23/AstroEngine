{
 "cells": [
  {
   "cell_type": "markdown",
   "id": "23813483",
   "metadata": {},
   "source": [
    "# 08 · Timeline (SPEC-B-012)\n",
    "\n",
    "Visualise transit hits using the golden timeline fixture."
   ]
  },
  {
   "cell_type": "code",
   "execution_count": 1,
   "id": "c3fa14a4",
   "metadata": {
    "execution": {
     "iopub.execute_input": "2025-09-27T21:17:18.183529Z",
     "iopub.status.busy": "2025-09-27T21:17:18.183348Z",
     "iopub.status.idle": "2025-09-27T21:17:18.601769Z",
     "shell.execute_reply": "2025-09-27T21:17:18.601073Z"
    }
   },
   "outputs": [],
   "source": [
    "from __future__ import annotations\n",
    "\n",
    "import os\n",
    "import sys\n",
    "from pathlib import Path\n",
    "\n",
    "import pandas as pd\n",
    "\n",
    "ASTRO_ROOT = Path(os.environ.get('ASTROENGINE_ROOT', '..')).resolve()\n",
    "DOCS_ROOT = Path(os.environ.get('DOCS_SITE_ROOT', 'docs-site')).resolve()\n",
    "FIXTURES = DOCS_ROOT / 'docs' / 'fixtures'\n",
    "os.environ.setdefault('SE_EPHE_PATH', str(ASTRO_ROOT / 'datasets' / 'swisseph_stub'))\n",
    "if str(ASTRO_ROOT) not in sys.path:\n",
    "    sys.path.insert(0, str(ASTRO_ROOT))"
   ]
  },
  {
   "cell_type": "code",
   "execution_count": 2,
   "id": "5fcb5775",
   "metadata": {
    "execution": {
     "iopub.execute_input": "2025-09-27T21:17:18.604158Z",
     "iopub.status.busy": "2025-09-27T21:17:18.603821Z",
     "iopub.status.idle": "2025-09-27T21:17:18.621795Z",
     "shell.execute_reply": "2025-09-27T21:17:18.621213Z"
    }
   },
   "outputs": [
    {
     "data": {
      "text/html": [
       "<div>\n",
       "<style scoped>\n",
       "    .dataframe tbody tr th:only-of-type {\n",
       "        vertical-align: middle;\n",
       "    }\n",
       "\n",
       "    .dataframe tbody tr th {\n",
       "        vertical-align: top;\n",
       "    }\n",
       "\n",
       "    .dataframe thead th {\n",
       "        text-align: right;\n",
       "    }\n",
       "</style>\n",
       "<table border=\"1\" class=\"dataframe\">\n",
       "  <thead>\n",
       "    <tr style=\"text-align: right;\">\n",
       "      <th></th>\n",
       "      <th>angle_deg</th>\n",
       "      <th>family</th>\n",
       "      <th>kind</th>\n",
       "      <th>moving</th>\n",
       "      <th>orb_abs</th>\n",
       "      <th>target</th>\n",
       "      <th>ts</th>\n",
       "    </tr>\n",
       "  </thead>\n",
       "  <tbody>\n",
       "    <tr>\n",
       "      <th>0</th>\n",
       "      <td>0</td>\n",
       "      <td>major</td>\n",
       "      <td>aspect_conjunction</td>\n",
       "      <td>Mars</td>\n",
       "      <td>8.171664e-07</td>\n",
       "      <td>Saturn</td>\n",
       "      <td>2024-02-03T03:52:17.050013Z</td>\n",
       "    </tr>\n",
       "  </tbody>\n",
       "</table>\n",
       "</div>"
      ],
      "text/plain": [
       "   angle_deg family                kind moving       orb_abs  target  \\\n",
       "0          0  major  aspect_conjunction   Mars  8.171664e-07  Saturn   \n",
       "\n",
       "                            ts  \n",
       "0  2024-02-03T03:52:17.050013Z  "
      ]
     },
     "execution_count": 2,
     "metadata": {},
     "output_type": "execute_result"
    }
   ],
   "source": [
    "timeline = pd.read_json(FIXTURES / 'timeline_events.json')\n",
    "timeline"
   ]
  },
  {
   "cell_type": "code",
   "execution_count": 3,
   "id": "5aa67405",
   "metadata": {
    "execution": {
     "iopub.execute_input": "2025-09-27T21:17:18.623535Z",
     "iopub.status.busy": "2025-09-27T21:17:18.623363Z",
     "iopub.status.idle": "2025-09-27T21:17:19.135836Z",
     "shell.execute_reply": "2025-09-27T21:17:19.135224Z"
    }
   },
   "outputs": [
    {
     "data": {
      "image/png": "[encoded data removed]",
      "text/plain": [
       "<Figure size 800x200 with 1 Axes>"
      ]
     },
     "metadata": {},
     "output_type": "display_data"
    }
   ],
   "source": [
    "import matplotlib.pyplot as plt\n",
    "\n",
    "if not timeline.empty:\n",
    "    timeline['ts'] = pd.to_datetime(timeline['ts'])\n",
    "    fig, ax = plt.subplots(figsize=(8, 2))\n",
    "    ax.scatter(timeline['ts'], timeline['angle_deg'], c='tab:purple')\n",
    "    ax.set_ylabel('Angle (°)')\n",
    "    ax.set_title('Transit hits timeline')\n",
    "    fig.autofmt_xdate()\n",
    "    plt.show()"
   ]
  },
  {
   "cell_type": "code",
   "execution_count": 4,
   "id": "939485d7",
   "metadata": {
    "execution": {
     "iopub.execute_input": "2025-09-27T21:17:19.137933Z",
     "iopub.status.busy": "2025-09-27T21:17:19.137618Z",
     "iopub.status.idle": "2025-09-27T21:17:19.141330Z",
     "shell.execute_reply": "2025-09-27T21:17:19.140785Z"
    }
   },
   "outputs": [
    {
     "name": "stdout",
     "output_type": "stream",
     "text": [
      "Results checksum: 734ea6c054374e0d086df334c7b75d7f3cd15af8da2b03713da5d499b413a65f\n"
     ]
    }
   ],
   "source": [
    "import hashlib\n",
    "\n",
    "print('Results checksum:', hashlib.sha256((FIXTURES / 'timeline_events.json').read_bytes()).hexdigest())"
   ]
  }
 ],
 "metadata": {
  "language_info": {
   "codemirror_mode": {
    "name": "ipython",
    "version": 3
   },
   "file_extension": ".py",
   "mimetype": "text/x-python",
   "name": "python",
   "nbconvert_exporter": "python",
   "pygments_lexer": "ipython3",
   "version": "3.11.12"
  }
 },
 "nbformat": 4,
 "nbformat_minor": 5
}
