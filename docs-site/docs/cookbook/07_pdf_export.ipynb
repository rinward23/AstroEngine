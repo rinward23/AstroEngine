{
 "cells": [
  {
   "cell_type": "markdown",
   "id": "37798658",
   "metadata": {},
   "source": [
    "# 07 · PDF Export (SPEC-B-014)\n",
    "\n",
    "Generate a PDF summary using ReportLab and compare it to the golden fixture."
   ]
  },
  {
   "cell_type": "code",
   "execution_count": 1,
   "id": "8e4633ea",
   "metadata": {
    "execution": {
     "iopub.execute_input": "2025-09-27T21:17:16.635077Z",
     "iopub.status.busy": "2025-09-27T21:17:16.634888Z",
     "iopub.status.idle": "2025-09-27T21:17:17.081068Z",
     "shell.execute_reply": "2025-09-27T21:17:17.080355Z"
    }
   },
   "outputs": [],
   "source": [
    "from __future__ import annotations\n",
    "\n",
    "import json\n",
    "import math\n",
    "import os\n",
    "from pathlib import Path\n",
    "import pandas as pd\n",
    "import sys\n",
    "\n",
    "ASTRO_ROOT = Path(os.environ.get('ASTROENGINE_ROOT', '..')).resolve()\n",
    "DOCS_ROOT = Path(os.environ.get('DOCS_SITE_ROOT', 'docs-site')).resolve()\n",
    "FIXTURES = DOCS_ROOT / 'docs' / 'fixtures'\n",
    "os.environ.setdefault('SE_EPHE_PATH', str(ASTRO_ROOT / 'datasets' / 'swisseph_stub'))\n",
    "if str(ASTRO_ROOT) not in sys.path:\n",
    "    sys.path.insert(0, str(ASTRO_ROOT))"
   ]
  },
  {
   "cell_type": "code",
   "execution_count": 2,
   "id": "0c905df8",
   "metadata": {
    "execution": {
     "iopub.execute_input": "2025-09-27T21:17:17.086454Z",
     "iopub.status.busy": "2025-09-27T21:17:17.086176Z",
     "iopub.status.idle": "2025-09-27T21:17:17.131440Z",
     "shell.execute_reply": "2025-09-27T21:17:17.130795Z"
    }
   },
   "outputs": [
    {
     "name": "stdout",
     "output_type": "stream",
     "text": [
      "Existing PDF size: 1658\n"
     ]
    }
   ],
   "source": [
    "from reportlab.lib.pagesizes import letter\n",
    "from reportlab.pdfgen import canvas\n",
    "output = DOCS_ROOT / 'docs' / 'fixtures' / 'report_bundle.pdf'\n",
    "print('Existing PDF size:', output.stat().st_size)"
   ]
  },
  {
   "cell_type": "code",
   "execution_count": 3,
   "id": "3ee84525",
   "metadata": {
    "execution": {
     "iopub.execute_input": "2025-09-27T21:17:17.133255Z",
     "iopub.status.busy": "2025-09-27T21:17:17.133037Z",
     "iopub.status.idle": "2025-09-27T21:17:17.136246Z",
     "shell.execute_reply": "2025-09-27T21:17:17.135678Z"
    }
   },
   "outputs": [
    {
     "name": "stdout",
     "output_type": "stream",
     "text": [
      "Results checksum: 93633641c049ad4d2ecdf6505991441a18d015b8d944e3c20fbaaa2cab468684\n"
     ]
    }
   ],
   "source": [
    "import hashlib\n",
    "print('Results checksum:', hashlib.sha256(output.read_bytes()).hexdigest())"
   ]
  }
 ],
 "metadata": {
  "language_info": {
   "codemirror_mode": {
    "name": "ipython",
    "version": 3
   },
   "file_extension": ".py",
   "mimetype": "text/x-python",
   "name": "python",
   "nbconvert_exporter": "python",
   "pygments_lexer": "ipython3",
   "version": "3.11.12"
  }
 },
 "nbformat": 4,
 "nbformat_minor": 5
}
