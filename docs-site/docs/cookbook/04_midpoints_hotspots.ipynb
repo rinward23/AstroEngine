{
 "cells": [
  {
   "cell_type": "markdown",
   "id": "03d5ff3b",
   "metadata": {},
   "source": [
    "# 04 · Midpoints & Hotspots (SPEC-B-011)\n",
    "\n",
    "Derive midpoint overlays and identify hotspots where both charts emphasise similar domains."
   ]
  },
  {
   "cell_type": "code",
   "execution_count": 1,
   "id": "65ada1c5",
   "metadata": {
    "execution": {
     "iopub.execute_input": "2025-09-27T21:17:12.074644Z",
     "iopub.status.busy": "2025-09-27T21:17:12.074453Z",
     "iopub.status.idle": "2025-09-27T21:17:12.503387Z",
     "shell.execute_reply": "2025-09-27T21:17:12.502578Z"
    }
   },
   "outputs": [],
   "source": [
    "from __future__ import annotations\n",
    "\n",
    "import json\n",
    "import math\n",
    "import os\n",
    "from pathlib import Path\n",
    "import pandas as pd\n",
    "import sys\n",
    "\n",
    "ASTRO_ROOT = Path(os.environ.get('ASTROENGINE_ROOT', '..')).resolve()\n",
    "DOCS_ROOT = Path(os.environ.get('DOCS_SITE_ROOT', 'docs-site')).resolve()\n",
    "FIXTURES = DOCS_ROOT / 'docs' / 'fixtures'\n",
    "os.environ.setdefault('SE_EPHE_PATH', str(ASTRO_ROOT / 'datasets' / 'swisseph_stub'))\n",
    "if str(ASTRO_ROOT) not in sys.path:\n",
    "    sys.path.insert(0, str(ASTRO_ROOT))"
   ]
  },
  {
   "cell_type": "code",
   "execution_count": 2,
   "id": "54c37341",
   "metadata": {
    "execution": {
     "iopub.execute_input": "2025-09-27T21:17:12.505654Z",
     "iopub.status.busy": "2025-09-27T21:17:12.505355Z",
     "iopub.status.idle": "2025-09-27T21:17:12.518244Z",
     "shell.execute_reply": "2025-09-27T21:17:12.517654Z"
    }
   },
   "outputs": [
    {
     "data": {
      "text/html": [
       "<div>\n",
       "<style scoped>\n",
       "    .dataframe tbody tr th:only-of-type {\n",
       "        vertical-align: middle;\n",
       "    }\n",
       "\n",
       "    .dataframe tbody tr th {\n",
       "        vertical-align: top;\n",
       "    }\n",
       "\n",
       "    .dataframe thead th {\n",
       "        text-align: right;\n",
       "    }\n",
       "</style>\n",
       "<table border=\"1\" class=\"dataframe\">\n",
       "  <thead>\n",
       "    <tr style=\"text-align: right;\">\n",
       "      <th></th>\n",
       "      <th>longitude</th>\n",
       "    </tr>\n",
       "  </thead>\n",
       "  <tbody>\n",
       "    <tr>\n",
       "      <th>Mars</th>\n",
       "      <td>354.825681</td>\n",
       "    </tr>\n",
       "    <tr>\n",
       "      <th>Mercury</th>\n",
       "      <td>64.950933</td>\n",
       "    </tr>\n",
       "    <tr>\n",
       "      <th>Moon</th>\n",
       "      <td>51.118138</td>\n",
       "    </tr>\n",
       "    <tr>\n",
       "      <th>Sun</th>\n",
       "      <td>52.138020</td>\n",
       "    </tr>\n",
       "    <tr>\n",
       "      <th>Venus</th>\n",
       "      <td>25.850358</td>\n",
       "    </tr>\n",
       "  </tbody>\n",
       "</table>\n",
       "</div>"
      ],
      "text/plain": [
       "          longitude\n",
       "Mars     354.825681\n",
       "Mercury   64.950933\n",
       "Moon      51.118138\n",
       "Sun       52.138020\n",
       "Venus     25.850358"
      ]
     },
     "execution_count": 2,
     "metadata": {},
     "output_type": "execute_result"
    }
   ],
   "source": [
    "with open(FIXTURES / 'composite_midpoints.json') as fh:\n",
    "    composite = json.load(fh)\n",
    "\n",
    "midpoint_df = pd.Series(composite).rename('longitude').to_frame()\n",
    "midpoint_df.head()"
   ]
  },
  {
   "cell_type": "code",
   "execution_count": 3,
   "id": "216dcb70",
   "metadata": {
    "execution": {
     "iopub.execute_input": "2025-09-27T21:17:12.520147Z",
     "iopub.status.busy": "2025-09-27T21:17:12.519882Z",
     "iopub.status.idle": "2025-09-27T21:17:12.526928Z",
     "shell.execute_reply": "2025-09-27T21:17:12.526264Z"
    }
   },
   "outputs": [
    {
     "data": {
      "text/html": [
       "<div>\n",
       "<style scoped>\n",
       "    .dataframe tbody tr th:only-of-type {\n",
       "        vertical-align: middle;\n",
       "    }\n",
       "\n",
       "    .dataframe tbody tr th {\n",
       "        vertical-align: top;\n",
       "    }\n",
       "\n",
       "    .dataframe thead th {\n",
       "        text-align: right;\n",
       "    }\n",
       "</style>\n",
       "<table border=\"1\" class=\"dataframe\">\n",
       "  <thead>\n",
       "    <tr style=\"text-align: right;\">\n",
       "      <th></th>\n",
       "      <th>longitude</th>\n",
       "    </tr>\n",
       "  </thead>\n",
       "  <tbody>\n",
       "  </tbody>\n",
       "</table>\n",
       "</div>"
      ],
      "text/plain": [
       "Empty DataFrame\n",
       "Columns: [longitude]\n",
       "Index: []"
      ]
     },
     "execution_count": 3,
     "metadata": {},
     "output_type": "execute_result"
    }
   ],
   "source": [
    "hotspots = midpoint_df[midpoint_df['longitude'].between(150, 210)]\n",
    "hotspots"
   ]
  },
  {
   "cell_type": "code",
   "execution_count": 4,
   "id": "9d6f7386",
   "metadata": {
    "execution": {
     "iopub.execute_input": "2025-09-27T21:17:12.528581Z",
     "iopub.status.busy": "2025-09-27T21:17:12.528389Z",
     "iopub.status.idle": "2025-09-27T21:17:12.531969Z",
     "shell.execute_reply": "2025-09-27T21:17:12.531274Z"
    }
   },
   "outputs": [
    {
     "name": "stdout",
     "output_type": "stream",
     "text": [
      "Results checksum: 40b07eac981afa58094387af91b444844a967d67f658e9bfcd5e37f6e80e8d5c\n"
     ]
    }
   ],
   "source": [
    "import hashlib\n",
    "print('Results checksum:', hashlib.sha256((FIXTURES / 'composite_midpoints.json').read_bytes()).hexdigest())"
   ]
  }
 ],
 "metadata": {
  "language_info": {
   "codemirror_mode": {
    "name": "ipython",
    "version": 3
   },
   "file_extension": ".py",
   "mimetype": "text/x-python",
   "name": "python",
   "nbconvert_exporter": "python",
   "pygments_lexer": "ipython3",
   "version": "3.11.12"
  }
 },
 "nbformat": 4,
 "nbformat_minor": 5
}
