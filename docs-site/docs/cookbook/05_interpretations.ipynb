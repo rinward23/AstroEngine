{
 "cells": [
  {
   "cell_type": "markdown",
   "id": "b6c9f5f3",
   "metadata": {},
   "source": [
    "# 05 · Interpretations (SPEC-B-005 + SPEC-B-013)\n",
    "\n",
    "Load the rulepack, evaluate the synastry hits, and inspect the scored findings."
   ]
  },
  {
   "cell_type": "code",
   "execution_count": 1,
   "id": "546e7083",
   "metadata": {
    "execution": {
     "iopub.execute_input": "2025-09-27T21:17:13.554640Z",
     "iopub.status.busy": "2025-09-27T21:17:13.554451Z",
     "iopub.status.idle": "2025-09-27T21:17:14.000356Z",
     "shell.execute_reply": "2025-09-27T21:17:13.999584Z"
    }
   },
   "outputs": [],
   "source": [
    "from __future__ import annotations\n",
    "\n",
    "import json\n",
    "import os\n",
    "import sys\n",
    "from pathlib import Path\n",
    "\n",
    "ASTRO_ROOT = Path(os.environ.get('ASTROENGINE_ROOT', '..')).resolve()\n",
    "DOCS_ROOT = Path(os.environ.get('DOCS_SITE_ROOT', 'docs-site')).resolve()\n",
    "FIXTURES = DOCS_ROOT / 'docs' / 'fixtures'\n",
    "os.environ.setdefault('SE_EPHE_PATH', str(ASTRO_ROOT / 'datasets' / 'swisseph_stub'))\n",
    "if str(ASTRO_ROOT) not in sys.path:\n",
    "    sys.path.insert(0, str(ASTRO_ROOT))"
   ]
  },
  {
   "cell_type": "code",
   "execution_count": 2,
   "id": "9ae1f268",
   "metadata": {
    "execution": {
     "iopub.execute_input": "2025-09-27T21:17:14.002659Z",
     "iopub.status.busy": "2025-09-27T21:17:14.002377Z",
     "iopub.status.idle": "2025-09-27T21:17:14.028850Z",
     "shell.execute_reply": "2025-09-27T21:17:14.028230Z"
    }
   },
   "outputs": [
    {
     "data": {
      "text/plain": [
       "0"
      ]
     },
     "execution_count": 2,
     "metadata": {},
     "output_type": "execute_result"
    }
   ],
   "source": [
    "from core.interpret_plus.engine import interpret, load_rules\n",
    "\n",
    "with open(FIXTURES / 'synastry_hits.json') as fh:\n",
    "    hits = json.load(fh)\n",
    "rules = load_rules(str(DOCS_ROOT / 'docs' / 'rulepacks' / 'examples' / 'basic.yaml'))\n",
    "request = {'scope': 'synastry', 'hits': hits}\n",
    "findings = interpret(request, rules)\n",
    "len(findings)"
   ]
  },
  {
   "cell_type": "code",
   "execution_count": 3,
   "id": "d95577aa",
   "metadata": {
    "execution": {
     "iopub.execute_input": "2025-09-27T21:17:14.030497Z",
     "iopub.status.busy": "2025-09-27T21:17:14.030324Z",
     "iopub.status.idle": "2025-09-27T21:17:14.034002Z",
     "shell.execute_reply": "2025-09-27T21:17:14.033469Z"
    }
   },
   "outputs": [
    {
     "data": {
      "text/plain": [
       "[]"
      ]
     },
     "execution_count": 3,
     "metadata": {},
     "output_type": "execute_result"
    }
   ],
   "source": [
    "findings[:3]"
   ]
  },
  {
   "cell_type": "code",
   "execution_count": 4,
   "id": "00a1e899",
   "metadata": {
    "execution": {
     "iopub.execute_input": "2025-09-27T21:17:14.035499Z",
     "iopub.status.busy": "2025-09-27T21:17:14.035304Z",
     "iopub.status.idle": "2025-09-27T21:17:14.039437Z",
     "shell.execute_reply": "2025-09-27T21:17:14.038952Z"
    }
   },
   "outputs": [
    {
     "name": "stdout",
     "output_type": "stream",
     "text": [
      "Fixture findings: 0\n"
     ]
    },
    {
     "data": {
      "text/plain": [
       "[]"
      ]
     },
     "execution_count": 4,
     "metadata": {},
     "output_type": "execute_result"
    }
   ],
   "source": [
    "fixture = json.loads((FIXTURES / 'interpretations.json').read_text())\n",
    "print('Fixture findings:', len(fixture))\n",
    "fixture[:2]"
   ]
  },
  {
   "cell_type": "code",
   "execution_count": 5,
   "id": "7357f509",
   "metadata": {
    "execution": {
     "iopub.execute_input": "2025-09-27T21:17:14.040952Z",
     "iopub.status.busy": "2025-09-27T21:17:14.040769Z",
     "iopub.status.idle": "2025-09-27T21:17:14.043853Z",
     "shell.execute_reply": "2025-09-27T21:17:14.043331Z"
    }
   },
   "outputs": [
    {
     "name": "stdout",
     "output_type": "stream",
     "text": [
      "Results checksum: 4f53cda18c2baa0c0354bb5f9a3ecbe5ed12ab4d8e11ba873c2f11161202b945\n"
     ]
    }
   ],
   "source": [
    "import hashlib\n",
    "\n",
    "print('Results checksum:', hashlib.sha256((FIXTURES / 'interpretations.json').read_bytes()).hexdigest())"
   ]
  }
 ],
 "metadata": {
  "language_info": {
   "codemirror_mode": {
    "name": "ipython",
    "version": 3
   },
   "file_extension": ".py",
   "mimetype": "text/x-python",
   "name": "python",
   "nbconvert_exporter": "python",
   "pygments_lexer": "ipython3",
   "version": "3.11.12"
  }
 },
 "nbformat": 4,
 "nbformat_minor": 5
}
