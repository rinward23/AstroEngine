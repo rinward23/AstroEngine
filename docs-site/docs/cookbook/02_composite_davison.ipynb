{
 "cells": [
  {
   "cell_type": "markdown",
   "id": "23fe2d24",
   "metadata": {},
   "source": [
    "# 02 · Composite & Davison (SPEC-B-002, SPEC-B-010)\n",
    "\n",
    "Compute midpoint composites and Davison positions from the natal fixtures. These outputs seed the report builder."
   ]
  },
  {
   "cell_type": "code",
   "execution_count": 1,
   "id": "6e2238fa",
   "metadata": {
    "execution": {
     "iopub.execute_input": "2025-09-27T21:17:05.575287Z",
     "iopub.status.busy": "2025-09-27T21:17:05.575054Z",
     "iopub.status.idle": "2025-09-27T21:17:06.060181Z",
     "shell.execute_reply": "2025-09-27T21:17:06.059044Z"
    }
   },
   "outputs": [],
   "source": [
    "from __future__ import annotations\n",
    "\n",
    "import json\n",
    "import math\n",
    "import os\n",
    "from pathlib import Path\n",
    "import pandas as pd\n",
    "import sys\n",
    "\n",
    "ASTRO_ROOT = Path(os.environ.get('ASTROENGINE_ROOT', '..')).resolve()\n",
    "DOCS_ROOT = Path(os.environ.get('DOCS_SITE_ROOT', 'docs-site')).resolve()\n",
    "FIXTURES = DOCS_ROOT / 'docs' / 'fixtures'\n",
    "os.environ.setdefault('SE_EPHE_PATH', str(ASTRO_ROOT / 'datasets' / 'swisseph_stub'))\n",
    "if str(ASTRO_ROOT) not in sys.path:\n",
    "    sys.path.insert(0, str(ASTRO_ROOT))"
   ]
  },
  {
   "cell_type": "code",
   "execution_count": 2,
   "id": "cac1aaf5",
   "metadata": {
    "execution": {
     "iopub.execute_input": "2025-09-27T21:17:06.065178Z",
     "iopub.status.busy": "2025-09-27T21:17:06.064745Z",
     "iopub.status.idle": "2025-09-27T21:17:06.074128Z",
     "shell.execute_reply": "2025-09-27T21:17:06.073546Z"
    }
   },
   "outputs": [
    {
     "data": {
      "text/plain": [
       "[('Jupiter', 111.61446471656818),\n",
       " ('Mars', 29.133036444205217),\n",
       " ('Mercury', 118.68755174469528)]"
      ]
     },
     "execution_count": 2,
     "metadata": {},
     "output_type": "execute_result"
    }
   ],
   "source": [
    "with open(FIXTURES / 'positions_subject.json') as fh:\n",
    "    subject = json.load(fh)\n",
    "with open(FIXTURES / 'positions_partner.json') as fh:\n",
    "    partner = json.load(fh)\n",
    "\n",
    "subject_lons = {k: v['longitude'] for k, v in subject.items()}\n",
    "partner_lons = {k: v['longitude'] for k, v in partner.items()}\n",
    "list(subject_lons.items())[:3]"
   ]
  },
  {
   "cell_type": "code",
   "execution_count": 3,
   "id": "6be26ceb",
   "metadata": {
    "execution": {
     "iopub.execute_input": "2025-09-27T21:17:06.078269Z",
     "iopub.status.busy": "2025-09-27T21:17:06.078079Z",
     "iopub.status.idle": "2025-09-27T21:17:06.086236Z",
     "shell.execute_reply": "2025-09-27T21:17:06.085381Z"
    }
   },
   "outputs": [],
   "source": [
    "events = pd.read_csv(FIXTURES / 'birth_events.csv')\n",
    "subject_row = events.iloc[0]\n",
    "partner_row = events.iloc[1]"
   ]
  },
  {
   "cell_type": "code",
   "execution_count": 4,
   "id": "1ff8104b",
   "metadata": {
    "execution": {
     "iopub.execute_input": "2025-09-27T21:17:06.088060Z",
     "iopub.status.busy": "2025-09-27T21:17:06.087842Z",
     "iopub.status.idle": "2025-09-27T21:17:07.571905Z",
     "shell.execute_reply": "2025-09-27T21:17:07.571296Z"
    }
   },
   "outputs": [
    {
     "data": {
      "text/plain": [
       "{'Sun': 52.13802041737405,\n",
       " 'Moon': 51.1181379706091,\n",
       " 'Mercury': 64.95093300691764,\n",
       " 'Venus': 25.8503583273406,\n",
       " 'Mars': 354.82568139459363}"
      ]
     },
     "execution_count": 4,
     "metadata": {},
     "output_type": "execute_result"
    }
   ],
   "source": [
    "from astroengine.core.rel_plus.composite import composite_midpoint_positions, davison_positions\n",
    "from astroengine.chart.natal import ChartLocation, compute_natal_chart\n",
    "from astroengine.ephemeris.swisseph_adapter import SwissEphemerisAdapter\n",
    "\n",
    "adapter = SwissEphemerisAdapter()\n",
    "objects = ['Sun', 'Moon', 'Mercury', 'Venus', 'Mars']\n",
    "composite = composite_midpoint_positions(subject_lons, partner_lons, objects)\n",
    "composite"
   ]
  },
  {
   "cell_type": "code",
   "execution_count": 5,
   "id": "e7e0ed51",
   "metadata": {
    "execution": {
     "iopub.execute_input": "2025-09-27T21:17:07.574126Z",
     "iopub.status.busy": "2025-09-27T21:17:07.573839Z",
     "iopub.status.idle": "2025-09-27T21:17:07.586061Z",
     "shell.execute_reply": "2025-09-27T21:17:07.585405Z"
    }
   },
   "outputs": [
    {
     "data": {
      "text/plain": [
       "{'Sun': 52.803398258066,\n",
       " 'Moon': 51.37323552107983,\n",
       " 'Mercury': 26.840129290252843,\n",
       " 'Venus': 95.60026765291965,\n",
       " 'Mars': 112.78955318861482}"
      ]
     },
     "execution_count": 5,
     "metadata": {},
     "output_type": "execute_result"
    }
   ],
   "source": [
    "from datetime import datetime\n",
    "\n",
    "def provider(when: datetime) -> dict[str, float]:\n",
    "    chart = compute_natal_chart(when, ChartLocation(latitude=0.0, longitude=0.0), adapter=adapter)\n",
    "    return {name: pos.longitude for name, pos in chart.positions.items()}\n",
    "\n",
    "davison = davison_positions(objects, pd.to_datetime(subject_row['ts']).to_pydatetime(), pd.to_datetime(partner_row['ts']).to_pydatetime(), provider, lat_a=subject_row['lat'], lon_a=subject_row['lon'], lat_b=partner_row['lat'], lon_b=partner_row['lon'])\n",
    "davison"
   ]
  },
  {
   "cell_type": "code",
   "execution_count": 6,
   "id": "29240a4d",
   "metadata": {
    "execution": {
     "iopub.execute_input": "2025-09-27T21:17:07.587731Z",
     "iopub.status.busy": "2025-09-27T21:17:07.587542Z",
     "iopub.status.idle": "2025-09-27T21:17:07.591872Z",
     "shell.execute_reply": "2025-09-27T21:17:07.591336Z"
    }
   },
   "outputs": [
    {
     "name": "stdout",
     "output_type": "stream",
     "text": [
      "Composite delta: 0.0\n",
      "Davison delta: 0.0\n"
     ]
    }
   ],
   "source": [
    "fixture_comp = json.loads((FIXTURES / 'composite_midpoints.json').read_text())\n",
    "fixture_davison = json.loads((FIXTURES / 'davison_positions.json').read_text())\n",
    "\n",
    "print('Composite delta:', max(abs(composite[k] - fixture_comp[k]) for k in objects))\n",
    "print('Davison delta:', max(abs(davison[k] - fixture_davison[k]) for k in objects))"
   ]
  },
  {
   "cell_type": "code",
   "execution_count": 7,
   "id": "f221b997",
   "metadata": {
    "execution": {
     "iopub.execute_input": "2025-09-27T21:17:07.593601Z",
     "iopub.status.busy": "2025-09-27T21:17:07.593383Z",
     "iopub.status.idle": "2025-09-27T21:17:07.596665Z",
     "shell.execute_reply": "2025-09-27T21:17:07.596073Z"
    }
   },
   "outputs": [
    {
     "name": "stdout",
     "output_type": "stream",
     "text": [
      "Results checksum: 40b07eac981afa58094387af91b444844a967d67f658e9bfcd5e37f6e80e8d5c\n"
     ]
    }
   ],
   "source": [
    "import hashlib\n",
    "print('Results checksum:', hashlib.sha256((FIXTURES / 'composite_midpoints.json').read_bytes()).hexdigest())"
   ]
  }
 ],
 "metadata": {
  "language_info": {
   "codemirror_mode": {
    "name": "ipython",
    "version": 3
   },
   "file_extension": ".py",
   "mimetype": "text/x-python",
   "name": "python",
   "nbconvert_exporter": "python",
   "pygments_lexer": "ipython3",
   "version": "3.11.12"
  }
 },
 "nbformat": 4,
 "nbformat_minor": 5
}
